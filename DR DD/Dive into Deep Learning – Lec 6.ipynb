{
 "cells": [
  {
   "cell_type": "code",
   "execution_count": 8,
   "id": "34279053",
   "metadata": {},
   "outputs": [
    {
     "name": "stdout",
     "output_type": "stream",
     "text": [
      "Feature 1 is working\n",
      "Feature 2 is working\n"
     ]
    }
   ],
   "source": [
    "class A:\n",
    "\n",
    "    def feature1(self):\n",
    "        print(\"Feature 1 is working\")\n",
    "\n",
    "    def feature2(self):\n",
    "        print(\"Feature 2 is working\")\n",
    "\n",
    "class B(A):\n",
    "\n",
    "\n",
    "    def feature3(self):\n",
    "        print(\"Feature 3 is working\")\n",
    "\n",
    "    def feature4(self):\n",
    "        print(\"Feature 4 is working\")\n",
    "\n",
    "\n",
    "class C(B):\n",
    "\n",
    "    def feature5(self):\n",
    "        print(\"Feature 5 is working\")\n",
    "\n",
    "\n",
    "a1 = A()\n",
    "\n",
    "a1.feature1()\n",
    "\n",
    "a1.feature2()\n",
    "\n"
   ]
  },
  {
   "cell_type": "code",
   "execution_count": 7,
   "id": "30e3a4d5",
   "metadata": {},
   "outputs": [
    {
     "name": "stdout",
     "output_type": "stream",
     "text": [
      "Feature 3 is working\n"
     ]
    }
   ],
   "source": [
    "b1 = B()\n",
    "\n",
    "b1.feature3()"
   ]
  },
  {
   "cell_type": "code",
   "execution_count": 9,
   "id": "ad7cacfe",
   "metadata": {},
   "outputs": [
    {
     "name": "stdout",
     "output_type": "stream",
     "text": [
      "Feature 5 is working\n"
     ]
    }
   ],
   "source": [
    "c1 = C()\n",
    "\n",
    "c1.feature5()"
   ]
  },
  {
   "cell_type": "markdown",
   "id": "18e34444",
   "metadata": {},
   "source": [
    "## Inheritance"
   ]
  },
  {
   "cell_type": "code",
   "execution_count": 29,
   "id": "62533a14",
   "metadata": {},
   "outputs": [],
   "source": [
    "class Car:\n",
    "\n",
    "    def __init__(self,windows=0,doors=0,enginetype=\"\"):\n",
    "\n",
    "        self.windows = windows\n",
    "        self.doors = doors\n",
    "        self.enginetype = enginetype\n",
    "\n",
    "    def driving(self):\n",
    "\n",
    "        print(\"Car is used for driving\")\n",
    "# Audi car is inheriting from the car class\n",
    "class Audi(Car):\n",
    "\n",
    "    def __init__(self,windows,doors,enginetype,horsepower):\n",
    "\n",
    "        super().__init__(windows,doors,enginetype)\n",
    "\n",
    "        self.horsepower = horsepower\n",
    "\n",
    "    def selfdriving(self):\n",
    "        print(\"It is a self driving car\")\n",
    "\n"
   ]
  },
  {
   "cell_type": "code",
   "execution_count": 23,
   "id": "f5986a94",
   "metadata": {},
   "outputs": [],
   "source": [
    "audiq7 = Audi(4,5,\"Diesel\",\"200\")"
   ]
  },
  {
   "cell_type": "code",
   "execution_count": 24,
   "id": "71295150",
   "metadata": {},
   "outputs": [
    {
     "data": {
      "text/plain": [
       "'200'"
      ]
     },
     "execution_count": 24,
     "metadata": {},
     "output_type": "execute_result"
    }
   ],
   "source": [
    "audiq7.horsepower"
   ]
  },
  {
   "cell_type": "code",
   "execution_count": 13,
   "id": "9676763a",
   "metadata": {},
   "outputs": [
    {
     "data": {
      "text/plain": [
       "4"
      ]
     },
     "execution_count": 13,
     "metadata": {},
     "output_type": "execute_result"
    }
   ],
   "source": [
    "audiq7.windows"
   ]
  },
  {
   "cell_type": "code",
   "execution_count": 14,
   "id": "04d9c9f4",
   "metadata": {},
   "outputs": [
    {
     "name": "stdout",
     "output_type": "stream",
     "text": [
      "Car is used for driving\n"
     ]
    }
   ],
   "source": [
    "audiq7.driving()"
   ]
  },
  {
   "cell_type": "code",
   "execution_count": 25,
   "id": "73f89a7d",
   "metadata": {},
   "outputs": [
    {
     "name": "stdout",
     "output_type": "stream",
     "text": [
      "It is a self driving car\n"
     ]
    }
   ],
   "source": [
    "audiq7.selfdriving()"
   ]
  },
  {
   "cell_type": "code",
   "execution_count": 26,
   "id": "dc480797",
   "metadata": {},
   "outputs": [
    {
     "name": "stdout",
     "output_type": "stream",
     "text": [
      "<__main__.Audi object at 0x000001C89C883D90>\n"
     ]
    }
   ],
   "source": [
    "print(audiq7)"
   ]
  },
  {
   "cell_type": "code",
   "execution_count": 27,
   "id": "1954dd60",
   "metadata": {},
   "outputs": [
    {
     "name": "stdout",
     "output_type": "stream",
     "text": [
      "['__class__', '__delattr__', '__dict__', '__dir__', '__doc__', '__eq__', '__format__', '__ge__', '__getattribute__', '__gt__', '__hash__', '__init__', '__init_subclass__', '__le__', '__lt__', '__module__', '__ne__', '__new__', '__reduce__', '__reduce_ex__', '__repr__', '__setattr__', '__sizeof__', '__str__', '__subclasshook__', '__weakref__', 'doors', 'driving', 'enginetype', 'horsepower', 'selfdriving', 'windows']\n"
     ]
    }
   ],
   "source": [
    "print(dir(audiq7))"
   ]
  },
  {
   "cell_type": "code",
   "execution_count": 30,
   "id": "5e0e5cf0",
   "metadata": {},
   "outputs": [],
   "source": [
    "car1 = Car()"
   ]
  },
  {
   "cell_type": "code",
   "execution_count": null,
   "id": "9be735b7",
   "metadata": {},
   "outputs": [
    {
     "name": "stdout",
     "output_type": "stream",
     "text": [
      "['__class__', '__delattr__', '__dict__', '__dir__', '__doc__', '__eq__', '__format__', '__ge__', '__getattribute__', '__gt__', '__hash__', '__init__', '__init_subclass__', '__le__', '__lt__', '__module__', '__ne__', '__new__', '__reduce__', '__reduce_ex__', '__repr__', '__setattr__', '__sizeof__', '__str__', '__subclasshook__', '__weakref__', 'doors', 'driving', 'enginetype', 'windows']\n"
     ]
    },
    {
     "ename": "",
     "evalue": "",
     "output_type": "error",
     "traceback": [
      "\u001b[1;31mThe Kernel crashed while executing code in the current cell or a previous cell. \n",
      "\u001b[1;31mPlease review the code in the cell(s) to identify a possible cause of the failure. \n",
      "\u001b[1;31mClick <a href='https://aka.ms/vscodeJupyterKernelCrash'>here</a> for more info. \n",
      "\u001b[1;31mView Jupyter <a href='command:jupyter.viewOutput'>log</a> for further details."
     ]
    }
   ],
   "source": [
    "print(dir(car1))"
   ]
  },
  {
   "cell_type": "code",
   "execution_count": null,
   "id": "408c7012",
   "metadata": {},
   "outputs": [],
   "source": []
  },
  {
   "cell_type": "code",
   "execution_count": null,
   "id": "726fa12d",
   "metadata": {},
   "outputs": [],
   "source": []
  },
  {
   "cell_type": "code",
   "execution_count": null,
   "id": "5cc2ba49",
   "metadata": {},
   "outputs": [],
   "source": []
  },
  {
   "cell_type": "code",
   "execution_count": null,
   "id": "c5a6a423",
   "metadata": {},
   "outputs": [],
   "source": []
  }
 ],
 "metadata": {
  "kernelspec": {
   "display_name": ".venv",
   "language": "python",
   "name": "python3"
  },
  "language_info": {
   "codemirror_mode": {
    "name": "ipython",
    "version": 3
   },
   "file_extension": ".py",
   "mimetype": "text/x-python",
   "name": "python",
   "nbconvert_exporter": "python",
   "pygments_lexer": "ipython3",
   "version": "3.10.0"
  }
 },
 "nbformat": 4,
 "nbformat_minor": 5
}
