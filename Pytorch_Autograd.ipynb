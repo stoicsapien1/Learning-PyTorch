{
  "cells": [
    {
      "cell_type": "markdown",
      "metadata": {
        "id": "H5V5ESLrMGTj"
      },
      "source": [
        "https://www.youtube.com/watch?v=BECZ0UB5AR0&list=PLKnIA16_Rmvboy8bmDCjwNHgTaYH2puK7&index=3"
      ]
    },
    {
      "cell_type": "code",
      "execution_count": 2,
      "metadata": {
        "id": "jBodDm9UCR-X"
      },
      "outputs": [],
      "source": [
        "import torch"
      ]
    },
    {
      "cell_type": "code",
      "execution_count": 2,
      "metadata": {
        "id": "qrkEcJ-jIsBS"
      },
      "outputs": [],
      "source": [
        "x = torch.tensor(3.0,requires_grad=True)"
      ]
    },
    {
      "cell_type": "code",
      "execution_count": 3,
      "metadata": {
        "id": "2ygksMVMIyoq"
      },
      "outputs": [],
      "source": [
        "y = x**2"
      ]
    },
    {
      "cell_type": "code",
      "execution_count": 4,
      "metadata": {
        "colab": {
          "base_uri": "https://localhost:8080/"
        },
        "id": "kpIj2JlcI9jY",
        "outputId": "107415a0-3a4b-489b-f745-a3884383839e"
      },
      "outputs": [
        {
          "data": {
            "text/plain": [
              "tensor(3., requires_grad=True)"
            ]
          },
          "execution_count": 4,
          "metadata": {},
          "output_type": "execute_result"
        }
      ],
      "source": [
        "x"
      ]
    },
    {
      "cell_type": "code",
      "execution_count": 5,
      "metadata": {
        "colab": {
          "base_uri": "https://localhost:8080/"
        },
        "id": "X_jSBRXFI_TI",
        "outputId": "80f0331c-3c33-480f-c153-1378eced6724"
      },
      "outputs": [
        {
          "data": {
            "text/plain": [
              "tensor(9., grad_fn=<PowBackward0>)"
            ]
          },
          "execution_count": 5,
          "metadata": {},
          "output_type": "execute_result"
        }
      ],
      "source": [
        "y"
      ]
    },
    {
      "cell_type": "code",
      "execution_count": 6,
      "metadata": {
        "id": "oivIyBfYI__w"
      },
      "outputs": [],
      "source": [
        "y.backward()"
      ]
    },
    {
      "cell_type": "code",
      "execution_count": 7,
      "metadata": {
        "colab": {
          "base_uri": "https://localhost:8080/"
        },
        "id": "kAjgbrvhJioa",
        "outputId": "e2100ce8-682b-4889-cb5e-92004f4594f0"
      },
      "outputs": [
        {
          "data": {
            "text/plain": [
              "tensor(6.)"
            ]
          },
          "execution_count": 7,
          "metadata": {},
          "output_type": "execute_result"
        }
      ],
      "source": [
        "x.grad"
      ]
    },
    {
      "cell_type": "code",
      "execution_count": 8,
      "metadata": {
        "id": "sGXFlAo_Jmaj"
      },
      "outputs": [],
      "source": [
        "x = torch.tensor(3.0,requires_grad=True)\n",
        "y = x**2\n",
        "z= torch.sin(y)"
      ]
    },
    {
      "cell_type": "code",
      "execution_count": 9,
      "metadata": {
        "colab": {
          "base_uri": "https://localhost:8080/"
        },
        "id": "Imy_zSJtKjdC",
        "outputId": "809d4b36-5162-4d49-f1d1-410023184f83"
      },
      "outputs": [
        {
          "data": {
            "text/plain": [
              "tensor(3., requires_grad=True)"
            ]
          },
          "execution_count": 9,
          "metadata": {},
          "output_type": "execute_result"
        }
      ],
      "source": [
        "x"
      ]
    },
    {
      "cell_type": "code",
      "execution_count": 10,
      "metadata": {
        "colab": {
          "base_uri": "https://localhost:8080/"
        },
        "id": "SlO-1DihKlbq",
        "outputId": "6c25c5ab-8ee4-46ac-beef-7a50793108fb"
      },
      "outputs": [
        {
          "data": {
            "text/plain": [
              "tensor(9., grad_fn=<PowBackward0>)"
            ]
          },
          "execution_count": 10,
          "metadata": {},
          "output_type": "execute_result"
        }
      ],
      "source": [
        "y"
      ]
    },
    {
      "cell_type": "code",
      "execution_count": 11,
      "metadata": {
        "colab": {
          "base_uri": "https://localhost:8080/"
        },
        "id": "HDVqUEw0KmMZ",
        "outputId": "d0b3de13-647c-4bd1-b751-cee230095529"
      },
      "outputs": [
        {
          "data": {
            "text/plain": [
              "tensor(0.4121, grad_fn=<SinBackward0>)"
            ]
          },
          "execution_count": 11,
          "metadata": {},
          "output_type": "execute_result"
        }
      ],
      "source": [
        "z"
      ]
    },
    {
      "cell_type": "code",
      "execution_count": 12,
      "metadata": {
        "id": "5vQt5g3eKm8Y"
      },
      "outputs": [],
      "source": [
        "z.backward()"
      ]
    },
    {
      "cell_type": "code",
      "execution_count": 13,
      "metadata": {
        "colab": {
          "base_uri": "https://localhost:8080/"
        },
        "id": "sbapM5q1K_2N",
        "outputId": "b825bc4c-c318-4032-afce-9e901b3641ce"
      },
      "outputs": [
        {
          "data": {
            "text/plain": [
              "tensor(-5.4668)"
            ]
          },
          "execution_count": 13,
          "metadata": {},
          "output_type": "execute_result"
        }
      ],
      "source": [
        "x.grad"
      ]
    },
    {
      "cell_type": "code",
      "execution_count": 13,
      "metadata": {
        "id": "BMdlCKq4LBzq"
      },
      "outputs": [],
      "source": []
    },
    {
      "cell_type": "markdown",
      "metadata": {
        "id": "zkXd5DD_L1p0"
      },
      "source": [
        "![image.png](data:image/png;base64,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)"
      ]
    },
    {
      "cell_type": "code",
      "execution_count": 2,
      "metadata": {
        "id": "t1wNSOYKL85T"
      },
      "outputs": [],
      "source": [
        "import torch\n",
        "\n"
      ]
    },
    {
      "cell_type": "code",
      "execution_count": 3,
      "metadata": {
        "id": "TLNOqCNGNZaU"
      },
      "outputs": [],
      "source": [
        "def binary_cross_entropy(prediction,target):\n",
        "\n",
        "  epsilon = 1e-8\n",
        "\n",
        "  prediction = torch.clamp(prediction,epsilon,1-epsilon)\n",
        "\n",
        "  return -(target * torch.log(prediction) + (1-target)* torch.log(1-prediction))"
      ]
    },
    {
      "cell_type": "code",
      "execution_count": 6,
      "metadata": {
        "id": "pkgbH1XROaMK"
      },
      "outputs": [],
      "source": [
        "z = w*x +b\n",
        "y_pred = torch.sigmoid(z)\n",
        "\n",
        "loss = binary_cross_entropy(y_pred,y)"
      ]
    },
    {
      "cell_type": "code",
      "execution_count": 5,
      "metadata": {
        "id": "p80q5wMHPC1Z"
      },
      "outputs": [],
      "source": [
        "\n",
        "x = torch.tensor(6.7)\n",
        "\n",
        "y = torch.tensor(0.0)\n",
        "\n",
        "w = torch.tensor(1.0,requires_grad=True)\n",
        "\n",
        "b = torch.tensor(0.0,requires_grad=True)"
      ]
    },
    {
      "cell_type": "code",
      "execution_count": 7,
      "metadata": {
        "id": "w08eOsuXPQv8"
      },
      "outputs": [],
      "source": [
        "z= w*x+b"
      ]
    },
    {
      "cell_type": "code",
      "execution_count": 8,
      "metadata": {
        "colab": {
          "base_uri": "https://localhost:8080/"
        },
        "id": "Ref_m4wpPT_C",
        "outputId": "dd04ae06-23cd-4562-eb1d-eb9168b98a26"
      },
      "outputs": [
        {
          "data": {
            "text/plain": [
              "tensor(0.9988, grad_fn=<SigmoidBackward0>)"
            ]
          },
          "execution_count": 8,
          "metadata": {},
          "output_type": "execute_result"
        }
      ],
      "source": [
        "y_pred"
      ]
    },
    {
      "cell_type": "code",
      "execution_count": 9,
      "metadata": {
        "id": "RZuOUpT0PVjS"
      },
      "outputs": [],
      "source": [
        "loss = binary_cross_entropy(y_pred,y)"
      ]
    },
    {
      "cell_type": "code",
      "execution_count": 10,
      "metadata": {
        "colab": {
          "base_uri": "https://localhost:8080/",
          "height": 371
        },
        "id": "ua0BleMJPcMq",
        "outputId": "52acf433-0164-49e0-dbac-2dcfc3bcdefc"
      },
      "outputs": [],
      "source": [
        "loss.backward()"
      ]
    },
    {
      "cell_type": "code",
      "execution_count": 11,
      "metadata": {
        "id": "pgK3RDICP1qz"
      },
      "outputs": [
        {
          "data": {
            "text/plain": [
              "tensor(6.6918)"
            ]
          },
          "execution_count": 11,
          "metadata": {},
          "output_type": "execute_result"
        }
      ],
      "source": [
        "w.grad"
      ]
    },
    {
      "cell_type": "code",
      "execution_count": 12,
      "metadata": {},
      "outputs": [
        {
          "data": {
            "text/plain": [
              "tensor(0.9988)"
            ]
          },
          "execution_count": 12,
          "metadata": {},
          "output_type": "execute_result"
        }
      ],
      "source": [
        "b.grad"
      ]
    },
    {
      "cell_type": "markdown",
      "metadata": {},
      "source": [
        "# We can also apply PyTorch on tensor as well (vector )"
      ]
    },
    {
      "cell_type": "markdown",
      "metadata": {},
      "source": [
        "YT : https://youtu.be/BECZ0UB5AR0?feature=shared&t=2431"
      ]
    },
    {
      "cell_type": "code",
      "execution_count": 13,
      "metadata": {},
      "outputs": [],
      "source": [
        "x = torch.tensor([1.0,2.0,3.0],requires_grad=True)"
      ]
    },
    {
      "cell_type": "code",
      "execution_count": 14,
      "metadata": {},
      "outputs": [
        {
          "data": {
            "text/plain": [
              "tensor([1., 2., 3.], requires_grad=True)"
            ]
          },
          "execution_count": 14,
          "metadata": {},
          "output_type": "execute_result"
        }
      ],
      "source": [
        "x"
      ]
    },
    {
      "cell_type": "code",
      "execution_count": 15,
      "metadata": {},
      "outputs": [],
      "source": [
        "y =(x**2).mean()"
      ]
    },
    {
      "cell_type": "code",
      "execution_count": 16,
      "metadata": {},
      "outputs": [],
      "source": [
        "y.backward()"
      ]
    },
    {
      "cell_type": "code",
      "execution_count": 17,
      "metadata": {},
      "outputs": [
        {
          "data": {
            "text/plain": [
              "tensor([0.6667, 1.3333, 2.0000])"
            ]
          },
          "execution_count": 17,
          "metadata": {},
          "output_type": "execute_result"
        }
      ],
      "source": [
        "x.grad"
      ]
    },
    {
      "cell_type": "markdown",
      "metadata": {},
      "source": [
        "# Clearing Gradient"
      ]
    },
    {
      "cell_type": "code",
      "execution_count": 3,
      "metadata": {},
      "outputs": [],
      "source": [
        "x = torch.tensor(2.0,requires_grad=True)"
      ]
    },
    {
      "cell_type": "code",
      "execution_count": 4,
      "metadata": {},
      "outputs": [],
      "source": [
        "y = x**2"
      ]
    },
    {
      "cell_type": "code",
      "execution_count": 39,
      "metadata": {},
      "outputs": [],
      "source": [
        "y.backward()"
      ]
    },
    {
      "cell_type": "code",
      "execution_count": 40,
      "metadata": {},
      "outputs": [
        {
          "data": {
            "text/plain": [
              "tensor(4.)"
            ]
          },
          "execution_count": 40,
          "metadata": {},
          "output_type": "execute_result"
        }
      ],
      "source": [
        "x.grad"
      ]
    },
    {
      "cell_type": "code",
      "execution_count": 41,
      "metadata": {},
      "outputs": [
        {
          "data": {
            "text/plain": [
              "tensor(0.)"
            ]
          },
          "execution_count": 41,
          "metadata": {},
          "output_type": "execute_result"
        }
      ],
      "source": [
        "x.grad.zero_()"
      ]
    },
    {
      "cell_type": "markdown",
      "metadata": {},
      "source": [
        "# How to disable gradient tracking"
      ]
    },
    {
      "cell_type": "code",
      "execution_count": 5,
      "metadata": {},
      "outputs": [
        {
          "data": {
            "text/plain": [
              "tensor(2.)"
            ]
          },
          "execution_count": 5,
          "metadata": {},
          "output_type": "execute_result"
        }
      ],
      "source": [
        "x.requires_grad_(False)"
      ]
    },
    {
      "cell_type": "code",
      "execution_count": 6,
      "metadata": {},
      "outputs": [
        {
          "data": {
            "text/plain": [
              "tensor(4., grad_fn=<PowBackward0>)"
            ]
          },
          "execution_count": 6,
          "metadata": {},
          "output_type": "execute_result"
        }
      ],
      "source": [
        "y"
      ]
    },
    {
      "cell_type": "code",
      "execution_count": 9,
      "metadata": {},
      "outputs": [],
      "source": [
        "# 2\n",
        "x = torch.tensor(2.0,requires_grad=True)\n",
        "y = x**2"
      ]
    },
    {
      "cell_type": "code",
      "execution_count": 11,
      "metadata": {},
      "outputs": [
        {
          "data": {
            "text/plain": [
              "tensor(2.)"
            ]
          },
          "execution_count": 11,
          "metadata": {},
          "output_type": "execute_result"
        }
      ],
      "source": [
        "z= x.detach()\n",
        "z"
      ]
    },
    {
      "cell_type": "code",
      "execution_count": 12,
      "metadata": {},
      "outputs": [],
      "source": [
        "y1 = z**2"
      ]
    },
    {
      "cell_type": "code",
      "execution_count": 13,
      "metadata": {},
      "outputs": [
        {
          "ename": "RuntimeError",
          "evalue": "element 0 of tensors does not require grad and does not have a grad_fn",
          "output_type": "error",
          "traceback": [
            "\u001b[1;31m---------------------------------------------------------------------------\u001b[0m",
            "\u001b[1;31mRuntimeError\u001b[0m                              Traceback (most recent call last)",
            "Cell \u001b[1;32mIn[13], line 1\u001b[0m\n\u001b[1;32m----> 1\u001b[0m \u001b[43my1\u001b[49m\u001b[38;5;241;43m.\u001b[39;49m\u001b[43mbackward\u001b[49m\u001b[43m(\u001b[49m\u001b[43m)\u001b[49m\n",
            "File \u001b[1;32md:\\LEARNING\\PYTORCH\\.venv\\lib\\site-packages\\torch\\_tensor.py:647\u001b[0m, in \u001b[0;36mTensor.backward\u001b[1;34m(self, gradient, retain_graph, create_graph, inputs)\u001b[0m\n\u001b[0;32m    637\u001b[0m \u001b[38;5;28;01mif\u001b[39;00m has_torch_function_unary(\u001b[38;5;28mself\u001b[39m):\n\u001b[0;32m    638\u001b[0m     \u001b[38;5;28;01mreturn\u001b[39;00m handle_torch_function(\n\u001b[0;32m    639\u001b[0m         Tensor\u001b[38;5;241m.\u001b[39mbackward,\n\u001b[0;32m    640\u001b[0m         (\u001b[38;5;28mself\u001b[39m,),\n\u001b[1;32m   (...)\u001b[0m\n\u001b[0;32m    645\u001b[0m         inputs\u001b[38;5;241m=\u001b[39minputs,\n\u001b[0;32m    646\u001b[0m     )\n\u001b[1;32m--> 647\u001b[0m \u001b[43mtorch\u001b[49m\u001b[38;5;241;43m.\u001b[39;49m\u001b[43mautograd\u001b[49m\u001b[38;5;241;43m.\u001b[39;49m\u001b[43mbackward\u001b[49m\u001b[43m(\u001b[49m\n\u001b[0;32m    648\u001b[0m \u001b[43m    \u001b[49m\u001b[38;5;28;43mself\u001b[39;49m\u001b[43m,\u001b[49m\u001b[43m \u001b[49m\u001b[43mgradient\u001b[49m\u001b[43m,\u001b[49m\u001b[43m \u001b[49m\u001b[43mretain_graph\u001b[49m\u001b[43m,\u001b[49m\u001b[43m \u001b[49m\u001b[43mcreate_graph\u001b[49m\u001b[43m,\u001b[49m\u001b[43m \u001b[49m\u001b[43minputs\u001b[49m\u001b[38;5;241;43m=\u001b[39;49m\u001b[43minputs\u001b[49m\n\u001b[0;32m    649\u001b[0m \u001b[43m\u001b[49m\u001b[43m)\u001b[49m\n",
            "File \u001b[1;32md:\\LEARNING\\PYTORCH\\.venv\\lib\\site-packages\\torch\\autograd\\__init__.py:354\u001b[0m, in \u001b[0;36mbackward\u001b[1;34m(tensors, grad_tensors, retain_graph, create_graph, grad_variables, inputs)\u001b[0m\n\u001b[0;32m    349\u001b[0m     retain_graph \u001b[38;5;241m=\u001b[39m create_graph\n\u001b[0;32m    351\u001b[0m \u001b[38;5;66;03m# The reason we repeat the same comment below is that\u001b[39;00m\n\u001b[0;32m    352\u001b[0m \u001b[38;5;66;03m# some Python versions print out the first line of a multi-line function\u001b[39;00m\n\u001b[0;32m    353\u001b[0m \u001b[38;5;66;03m# calls in the traceback and some print out the last line\u001b[39;00m\n\u001b[1;32m--> 354\u001b[0m \u001b[43m_engine_run_backward\u001b[49m\u001b[43m(\u001b[49m\n\u001b[0;32m    355\u001b[0m \u001b[43m    \u001b[49m\u001b[43mtensors\u001b[49m\u001b[43m,\u001b[49m\n\u001b[0;32m    356\u001b[0m \u001b[43m    \u001b[49m\u001b[43mgrad_tensors_\u001b[49m\u001b[43m,\u001b[49m\n\u001b[0;32m    357\u001b[0m \u001b[43m    \u001b[49m\u001b[43mretain_graph\u001b[49m\u001b[43m,\u001b[49m\n\u001b[0;32m    358\u001b[0m \u001b[43m    \u001b[49m\u001b[43mcreate_graph\u001b[49m\u001b[43m,\u001b[49m\n\u001b[0;32m    359\u001b[0m \u001b[43m    \u001b[49m\u001b[43minputs_tuple\u001b[49m\u001b[43m,\u001b[49m\n\u001b[0;32m    360\u001b[0m \u001b[43m    \u001b[49m\u001b[43mallow_unreachable\u001b[49m\u001b[38;5;241;43m=\u001b[39;49m\u001b[38;5;28;43;01mTrue\u001b[39;49;00m\u001b[43m,\u001b[49m\n\u001b[0;32m    361\u001b[0m \u001b[43m    \u001b[49m\u001b[43maccumulate_grad\u001b[49m\u001b[38;5;241;43m=\u001b[39;49m\u001b[38;5;28;43;01mTrue\u001b[39;49;00m\u001b[43m,\u001b[49m\n\u001b[0;32m    362\u001b[0m \u001b[43m\u001b[49m\u001b[43m)\u001b[49m\n",
            "File \u001b[1;32md:\\LEARNING\\PYTORCH\\.venv\\lib\\site-packages\\torch\\autograd\\graph.py:829\u001b[0m, in \u001b[0;36m_engine_run_backward\u001b[1;34m(t_outputs, *args, **kwargs)\u001b[0m\n\u001b[0;32m    827\u001b[0m     unregister_hooks \u001b[38;5;241m=\u001b[39m _register_logging_hooks_on_whole_graph(t_outputs)\n\u001b[0;32m    828\u001b[0m \u001b[38;5;28;01mtry\u001b[39;00m:\n\u001b[1;32m--> 829\u001b[0m     \u001b[38;5;28;01mreturn\u001b[39;00m Variable\u001b[38;5;241m.\u001b[39m_execution_engine\u001b[38;5;241m.\u001b[39mrun_backward(  \u001b[38;5;66;03m# Calls into the C++ engine to run the backward pass\u001b[39;00m\n\u001b[0;32m    830\u001b[0m         t_outputs, \u001b[38;5;241m*\u001b[39margs, \u001b[38;5;241m*\u001b[39m\u001b[38;5;241m*\u001b[39mkwargs\n\u001b[0;32m    831\u001b[0m     )  \u001b[38;5;66;03m# Calls into the C++ engine to run the backward pass\u001b[39;00m\n\u001b[0;32m    832\u001b[0m \u001b[38;5;28;01mfinally\u001b[39;00m:\n\u001b[0;32m    833\u001b[0m     \u001b[38;5;28;01mif\u001b[39;00m attach_logging_hooks:\n",
            "\u001b[1;31mRuntimeError\u001b[0m: element 0 of tensors does not require grad and does not have a grad_fn"
          ]
        }
      ],
      "source": [
        "y1.backward()"
      ]
    },
    {
      "cell_type": "code",
      "execution_count": 14,
      "metadata": {},
      "outputs": [
        {
          "data": {
            "text/plain": [
              "tensor(2., requires_grad=True)"
            ]
          },
          "execution_count": 14,
          "metadata": {},
          "output_type": "execute_result"
        }
      ],
      "source": [
        "#3 \n",
        "x = torch.tensor(2.0,requires_grad=True)\n",
        "x"
      ]
    },
    {
      "cell_type": "code",
      "execution_count": 15,
      "metadata": {},
      "outputs": [],
      "source": [
        "with torch.no_grad():\n",
        "    y = x**2"
      ]
    },
    {
      "cell_type": "code",
      "execution_count": 16,
      "metadata": {},
      "outputs": [
        {
          "data": {
            "text/plain": [
              "tensor(4.)"
            ]
          },
          "execution_count": 16,
          "metadata": {},
          "output_type": "execute_result"
        }
      ],
      "source": [
        "y"
      ]
    }
  ],
  "metadata": {
    "colab": {
      "provenance": []
    },
    "kernelspec": {
      "display_name": ".venv",
      "language": "python",
      "name": "python3"
    },
    "language_info": {
      "codemirror_mode": {
        "name": "ipython",
        "version": 3
      },
      "file_extension": ".py",
      "mimetype": "text/x-python",
      "name": "python",
      "nbconvert_exporter": "python",
      "pygments_lexer": "ipython3",
      "version": "3.10.0"
    }
  },
  "nbformat": 4,
  "nbformat_minor": 0
}
