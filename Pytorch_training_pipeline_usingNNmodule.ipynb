{
 "cells": [
  {
   "cell_type": "code",
   "execution_count": 2,
   "id": "cad5614d",
   "metadata": {},
   "outputs": [],
   "source": [
    "import numpy as np\n",
    "import pandas as pd\n",
    "import torch\n",
    "from sklearn.model_selection import train_test_split\n",
    "from sklearn.preprocessing import StandardScaler\n",
    "from sklearn.preprocessing import LabelEncoder"
   ]
  },
  {
   "cell_type": "code",
   "execution_count": 3,
   "id": "b49de8ca",
   "metadata": {},
   "outputs": [
    {
     "data": {
      "text/html": [
       "<div>\n",
       "<style scoped>\n",
       "    .dataframe tbody tr th:only-of-type {\n",
       "        vertical-align: middle;\n",
       "    }\n",
       "\n",
       "    .dataframe tbody tr th {\n",
       "        vertical-align: top;\n",
       "    }\n",
       "\n",
       "    .dataframe thead th {\n",
       "        text-align: right;\n",
       "    }\n",
       "</style>\n",
       "<table border=\"1\" class=\"dataframe\">\n",
       "  <thead>\n",
       "    <tr style=\"text-align: right;\">\n",
       "      <th></th>\n",
       "      <th>id</th>\n",
       "      <th>diagnosis</th>\n",
       "      <th>radius_mean</th>\n",
       "      <th>texture_mean</th>\n",
       "      <th>perimeter_mean</th>\n",
       "      <th>area_mean</th>\n",
       "      <th>smoothness_mean</th>\n",
       "      <th>compactness_mean</th>\n",
       "      <th>concavity_mean</th>\n",
       "      <th>concave points_mean</th>\n",
       "      <th>...</th>\n",
       "      <th>texture_worst</th>\n",
       "      <th>perimeter_worst</th>\n",
       "      <th>area_worst</th>\n",
       "      <th>smoothness_worst</th>\n",
       "      <th>compactness_worst</th>\n",
       "      <th>concavity_worst</th>\n",
       "      <th>concave points_worst</th>\n",
       "      <th>symmetry_worst</th>\n",
       "      <th>fractal_dimension_worst</th>\n",
       "      <th>Unnamed: 32</th>\n",
       "    </tr>\n",
       "  </thead>\n",
       "  <tbody>\n",
       "    <tr>\n",
       "      <th>0</th>\n",
       "      <td>842302</td>\n",
       "      <td>M</td>\n",
       "      <td>17.99</td>\n",
       "      <td>10.38</td>\n",
       "      <td>122.80</td>\n",
       "      <td>1001.0</td>\n",
       "      <td>0.11840</td>\n",
       "      <td>0.27760</td>\n",
       "      <td>0.3001</td>\n",
       "      <td>0.14710</td>\n",
       "      <td>...</td>\n",
       "      <td>17.33</td>\n",
       "      <td>184.60</td>\n",
       "      <td>2019.0</td>\n",
       "      <td>0.1622</td>\n",
       "      <td>0.6656</td>\n",
       "      <td>0.7119</td>\n",
       "      <td>0.2654</td>\n",
       "      <td>0.4601</td>\n",
       "      <td>0.11890</td>\n",
       "      <td>NaN</td>\n",
       "    </tr>\n",
       "    <tr>\n",
       "      <th>1</th>\n",
       "      <td>842517</td>\n",
       "      <td>M</td>\n",
       "      <td>20.57</td>\n",
       "      <td>17.77</td>\n",
       "      <td>132.90</td>\n",
       "      <td>1326.0</td>\n",
       "      <td>0.08474</td>\n",
       "      <td>0.07864</td>\n",
       "      <td>0.0869</td>\n",
       "      <td>0.07017</td>\n",
       "      <td>...</td>\n",
       "      <td>23.41</td>\n",
       "      <td>158.80</td>\n",
       "      <td>1956.0</td>\n",
       "      <td>0.1238</td>\n",
       "      <td>0.1866</td>\n",
       "      <td>0.2416</td>\n",
       "      <td>0.1860</td>\n",
       "      <td>0.2750</td>\n",
       "      <td>0.08902</td>\n",
       "      <td>NaN</td>\n",
       "    </tr>\n",
       "    <tr>\n",
       "      <th>2</th>\n",
       "      <td>84300903</td>\n",
       "      <td>M</td>\n",
       "      <td>19.69</td>\n",
       "      <td>21.25</td>\n",
       "      <td>130.00</td>\n",
       "      <td>1203.0</td>\n",
       "      <td>0.10960</td>\n",
       "      <td>0.15990</td>\n",
       "      <td>0.1974</td>\n",
       "      <td>0.12790</td>\n",
       "      <td>...</td>\n",
       "      <td>25.53</td>\n",
       "      <td>152.50</td>\n",
       "      <td>1709.0</td>\n",
       "      <td>0.1444</td>\n",
       "      <td>0.4245</td>\n",
       "      <td>0.4504</td>\n",
       "      <td>0.2430</td>\n",
       "      <td>0.3613</td>\n",
       "      <td>0.08758</td>\n",
       "      <td>NaN</td>\n",
       "    </tr>\n",
       "    <tr>\n",
       "      <th>3</th>\n",
       "      <td>84348301</td>\n",
       "      <td>M</td>\n",
       "      <td>11.42</td>\n",
       "      <td>20.38</td>\n",
       "      <td>77.58</td>\n",
       "      <td>386.1</td>\n",
       "      <td>0.14250</td>\n",
       "      <td>0.28390</td>\n",
       "      <td>0.2414</td>\n",
       "      <td>0.10520</td>\n",
       "      <td>...</td>\n",
       "      <td>26.50</td>\n",
       "      <td>98.87</td>\n",
       "      <td>567.7</td>\n",
       "      <td>0.2098</td>\n",
       "      <td>0.8663</td>\n",
       "      <td>0.6869</td>\n",
       "      <td>0.2575</td>\n",
       "      <td>0.6638</td>\n",
       "      <td>0.17300</td>\n",
       "      <td>NaN</td>\n",
       "    </tr>\n",
       "    <tr>\n",
       "      <th>4</th>\n",
       "      <td>84358402</td>\n",
       "      <td>M</td>\n",
       "      <td>20.29</td>\n",
       "      <td>14.34</td>\n",
       "      <td>135.10</td>\n",
       "      <td>1297.0</td>\n",
       "      <td>0.10030</td>\n",
       "      <td>0.13280</td>\n",
       "      <td>0.1980</td>\n",
       "      <td>0.10430</td>\n",
       "      <td>...</td>\n",
       "      <td>16.67</td>\n",
       "      <td>152.20</td>\n",
       "      <td>1575.0</td>\n",
       "      <td>0.1374</td>\n",
       "      <td>0.2050</td>\n",
       "      <td>0.4000</td>\n",
       "      <td>0.1625</td>\n",
       "      <td>0.2364</td>\n",
       "      <td>0.07678</td>\n",
       "      <td>NaN</td>\n",
       "    </tr>\n",
       "  </tbody>\n",
       "</table>\n",
       "<p>5 rows × 33 columns</p>\n",
       "</div>"
      ],
      "text/plain": [
       "         id diagnosis  radius_mean  texture_mean  perimeter_mean  area_mean  \\\n",
       "0    842302         M        17.99         10.38          122.80     1001.0   \n",
       "1    842517         M        20.57         17.77          132.90     1326.0   \n",
       "2  84300903         M        19.69         21.25          130.00     1203.0   \n",
       "3  84348301         M        11.42         20.38           77.58      386.1   \n",
       "4  84358402         M        20.29         14.34          135.10     1297.0   \n",
       "\n",
       "   smoothness_mean  compactness_mean  concavity_mean  concave points_mean  \\\n",
       "0          0.11840           0.27760          0.3001              0.14710   \n",
       "1          0.08474           0.07864          0.0869              0.07017   \n",
       "2          0.10960           0.15990          0.1974              0.12790   \n",
       "3          0.14250           0.28390          0.2414              0.10520   \n",
       "4          0.10030           0.13280          0.1980              0.10430   \n",
       "\n",
       "   ...  texture_worst  perimeter_worst  area_worst  smoothness_worst  \\\n",
       "0  ...          17.33           184.60      2019.0            0.1622   \n",
       "1  ...          23.41           158.80      1956.0            0.1238   \n",
       "2  ...          25.53           152.50      1709.0            0.1444   \n",
       "3  ...          26.50            98.87       567.7            0.2098   \n",
       "4  ...          16.67           152.20      1575.0            0.1374   \n",
       "\n",
       "   compactness_worst  concavity_worst  concave points_worst  symmetry_worst  \\\n",
       "0             0.6656           0.7119                0.2654          0.4601   \n",
       "1             0.1866           0.2416                0.1860          0.2750   \n",
       "2             0.4245           0.4504                0.2430          0.3613   \n",
       "3             0.8663           0.6869                0.2575          0.6638   \n",
       "4             0.2050           0.4000                0.1625          0.2364   \n",
       "\n",
       "   fractal_dimension_worst  Unnamed: 32  \n",
       "0                  0.11890          NaN  \n",
       "1                  0.08902          NaN  \n",
       "2                  0.08758          NaN  \n",
       "3                  0.17300          NaN  \n",
       "4                  0.07678          NaN  \n",
       "\n",
       "[5 rows x 33 columns]"
      ]
     },
     "execution_count": 3,
     "metadata": {},
     "output_type": "execute_result"
    }
   ],
   "source": [
    "df = pd.read_csv('https://raw.githubusercontent.com/gscdit/Breast-Cancer-Detection/refs/heads/master/data.csv')\n",
    "df.head()"
   ]
  },
  {
   "cell_type": "code",
   "execution_count": 4,
   "id": "ea642337",
   "metadata": {},
   "outputs": [],
   "source": [
    "df.drop(columns=['id', 'Unnamed: 32'], inplace= True)"
   ]
  },
  {
   "cell_type": "code",
   "execution_count": 5,
   "id": "ece25147",
   "metadata": {},
   "outputs": [],
   "source": [
    "X_train, X_test, y_train, y_test = train_test_split(df.iloc[:, 1:], df.iloc[:, 0], test_size=0.2)"
   ]
  },
  {
   "cell_type": "code",
   "execution_count": 6,
   "id": "9a0a145f",
   "metadata": {},
   "outputs": [],
   "source": [
    "scaler = StandardScaler()\n",
    "X_train = scaler.fit_transform(X_train)\n",
    "X_test = scaler.transform(X_test)"
   ]
  },
  {
   "cell_type": "code",
   "execution_count": 7,
   "id": "ad138d5c",
   "metadata": {},
   "outputs": [],
   "source": [
    "encoder = LabelEncoder()"
   ]
  },
  {
   "cell_type": "code",
   "execution_count": 8,
   "id": "afa31f54",
   "metadata": {},
   "outputs": [],
   "source": [
    "y_train= encoder.fit_transform(y_train)\n",
    "\n",
    "y_test = encoder.transform(y_test)"
   ]
  },
  {
   "cell_type": "code",
   "execution_count": 9,
   "id": "2e041858",
   "metadata": {},
   "outputs": [],
   "source": [
    "X_train_tensor = torch.from_numpy(X_train)\n",
    "X_test_tensor = torch.from_numpy(X_test)\n",
    "y_train_tensor = torch.from_numpy(y_train)\n",
    "y_test_tensor = torch.from_numpy(y_test)"
   ]
  },
  {
   "cell_type": "code",
   "execution_count": 10,
   "id": "fdcf1ed9",
   "metadata": {},
   "outputs": [
    {
     "data": {
      "text/plain": [
       "torch.Size([114, 30])"
      ]
     },
     "execution_count": 10,
     "metadata": {},
     "output_type": "execute_result"
    }
   ],
   "source": [
    "X_test_tensor.shape"
   ]
  },
  {
   "cell_type": "code",
   "execution_count": 11,
   "id": "cb8fbd03",
   "metadata": {},
   "outputs": [
    {
     "data": {
      "text/plain": [
       "tensor([1, 1, 0, 0, 0, 0, 0, 1, 1, 1, 1, 0, 0, 0, 1, 0, 0, 1, 1, 0, 0, 0, 1, 0,\n",
       "        0, 1, 0, 0, 0, 1, 0, 0, 0, 0, 1, 0, 1, 1, 0, 1, 0, 0, 0, 1, 0, 0, 1, 1,\n",
       "        1, 0, 0, 0, 1, 0, 1, 1, 0, 0, 0, 0, 1, 0, 0, 0, 0, 1, 0, 1, 0, 0, 0, 0,\n",
       "        0, 0, 0, 1, 0, 1, 0, 1, 1, 1, 0, 0, 0, 1, 0, 0, 0, 0, 0, 0, 1, 1, 1, 1,\n",
       "        1, 1, 0, 0, 1, 0, 1, 1, 0, 1, 0, 0, 0, 0, 0, 1, 0, 0, 0, 0, 1, 0, 0, 0,\n",
       "        0, 1, 0, 1, 1, 0, 0, 1, 1, 1, 1, 1, 0, 1, 0, 0, 0, 0, 1, 0, 1, 1, 0, 1,\n",
       "        0, 1, 0, 1, 0, 0, 0, 0, 0, 1, 0, 0, 1, 1, 1, 0, 0, 0, 0, 0, 1, 0, 1, 0,\n",
       "        1, 0, 1, 0, 0, 0, 0, 0, 1, 0, 0, 0, 1, 1, 1, 0, 0, 0, 0, 0, 1, 1, 0, 0,\n",
       "        0, 1, 0, 1, 0, 0, 0, 1, 0, 0, 1, 1, 0, 1, 1, 0, 1, 0, 0, 1, 0, 0, 1, 1,\n",
       "        0, 1, 0, 1, 0, 0, 1, 0, 0, 1, 1, 0, 0, 1, 0, 0, 1, 1, 0, 0, 1, 0, 0, 0,\n",
       "        0, 0, 1, 0, 0, 1, 0, 1, 0, 0, 1, 1, 0, 1, 1, 1, 1, 0, 0, 0, 0, 1, 0, 0,\n",
       "        0, 1, 0, 0, 0, 0, 0, 1, 0, 0, 1, 1, 0, 0, 1, 0, 0, 0, 1, 1, 0, 1, 0, 1,\n",
       "        0, 0, 0, 0, 0, 0, 0, 0, 0, 0, 0, 0, 0, 1, 1, 0, 1, 1, 0, 0, 1, 1, 0, 0,\n",
       "        0, 0, 0, 0, 1, 1, 0, 0, 0, 0, 0, 1, 1, 1, 1, 0, 1, 1, 1, 0, 1, 0, 0, 0,\n",
       "        1, 0, 0, 1, 0, 0, 1, 1, 0, 0, 0, 0, 0, 0, 0, 0, 0, 0, 1, 0, 1, 0, 0, 0,\n",
       "        0, 0, 1, 0, 1, 1, 1, 1, 1, 0, 1, 0, 0, 0, 1, 1, 1, 1, 0, 0, 0, 0, 1, 0,\n",
       "        0, 0, 0, 0, 0, 1, 0, 0, 0, 1, 0, 0, 0, 1, 0, 0, 1, 1, 1, 1, 1, 1, 0, 0,\n",
       "        0, 1, 1, 1, 0, 0, 1, 0, 0, 0, 1, 0, 0, 0, 0, 0, 0, 0, 1, 0, 0, 1, 1, 0,\n",
       "        0, 1, 0, 0, 0, 0, 1, 1, 0, 0, 0, 0, 1, 0, 1, 1, 0, 0, 1, 1, 0, 0, 0])"
      ]
     },
     "execution_count": 11,
     "metadata": {},
     "output_type": "execute_result"
    }
   ],
   "source": [
    "y_train_tensor"
   ]
  },
  {
   "cell_type": "code",
   "execution_count": 12,
   "id": "d4193350",
   "metadata": {},
   "outputs": [],
   "source": [
    "import torch.nn as nn"
   ]
  },
  {
   "cell_type": "code",
   "execution_count": 13,
   "id": "55b14a22",
   "metadata": {},
   "outputs": [],
   "source": [
    "class Model(nn.Module):\n",
    "\n",
    "\n",
    "\n",
    "    def __init__(self,num_features):\n",
    "\n",
    "        super().__init__()\n",
    "\n",
    "        self.linear = nn.Linear(num_features,1)\n",
    "\n",
    "        self.sigmoid = nn.Sigmoid()\n",
    "\n",
    "\n",
    "    def forward(self,features):\n",
    "\n",
    "        out = self.linear(features)\n",
    "        out = self.sigmoid(out)\n",
    "\n",
    "        return out\n",
    "    \n",
    "    def loss_function(self,y_pred,y):\n",
    "\n",
    "        epsilon = 1e-7\n",
    "\n",
    "        y_pred = torch.clamp(y_pred,epsilon,1-epsilon)\n",
    "\n",
    "        loss = - (y * torch.log(y_pred) + (1-y)*torch.log(1-y_pred)).mean()\n",
    "\n",
    "        return loss\n",
    "\n",
    "\n",
    "\n",
    "\n"
   ]
  },
  {
   "cell_type": "code",
   "execution_count": 14,
   "id": "e8a66fa0",
   "metadata": {},
   "outputs": [],
   "source": [
    "learning_rate = 0.1\n",
    "\n",
    "epochs = 25"
   ]
  },
  {
   "cell_type": "code",
   "execution_count": 15,
   "id": "b4ef835e",
   "metadata": {},
   "outputs": [],
   "source": [
    "model = Model(X_train_tensor.shape[1])"
   ]
  },
  {
   "cell_type": "code",
   "execution_count": 17,
   "id": "b84ae751",
   "metadata": {},
   "outputs": [
    {
     "name": "stdout",
     "output_type": "stream",
     "text": [
      "Epoch: 1,Loss: 0.7291616201400757\n",
      "Epoch: 2,Loss: 0.7149431109428406\n",
      "Epoch: 3,Loss: 0.7102746367454529\n",
      "Epoch: 4,Loss: 0.7062557339668274\n",
      "Epoch: 5,Loss: 0.7027684450149536\n",
      "Epoch: 6,Loss: 0.6997190713882446\n",
      "Epoch: 7,Loss: 0.6970329880714417\n",
      "Epoch: 8,Loss: 0.6946495175361633\n",
      "Epoch: 9,Loss: 0.6925198435783386\n",
      "Epoch: 10,Loss: 0.6906040906906128\n",
      "Epoch: 11,Loss: 0.6888703107833862\n",
      "Epoch: 12,Loss: 0.6872918605804443\n",
      "Epoch: 13,Loss: 0.685847282409668\n",
      "Epoch: 14,Loss: 0.6845192909240723\n",
      "Epoch: 15,Loss: 0.6832932233810425\n",
      "Epoch: 16,Loss: 0.682157039642334\n",
      "Epoch: 17,Loss: 0.6811007857322693\n",
      "Epoch: 18,Loss: 0.6801159381866455\n",
      "Epoch: 19,Loss: 0.6791955828666687\n",
      "Epoch: 20,Loss: 0.6783334612846375\n",
      "Epoch: 21,Loss: 0.6775244474411011\n",
      "Epoch: 22,Loss: 0.6767639517784119\n",
      "Epoch: 23,Loss: 0.6760481595993042\n",
      "Epoch: 24,Loss: 0.6753736138343811\n",
      "Epoch: 25,Loss: 0.6747370362281799\n"
     ]
    }
   ],
   "source": [
    "for epoch in range(epochs):\n",
    "\n",
    "    X_train_tensor = X_train_tensor.float()\n",
    "    y_pred = model.forward(X_train_tensor)\n",
    "\n",
    "    loss = model.loss_function(y_pred,y_train_tensor)\n",
    "\n",
    "    loss.backward()\n",
    "\n",
    "    with torch.no_grad():\n",
    "\n",
    "        model.linear.weight -= learning_rate * model.linear.weight.grad\n",
    "\n",
    "        model.linear.bias -= learning_rate * model.linear.bias.grad\n",
    "\n",
    "\n",
    "    model.linear.weight.grad.zero_()\n",
    "\n",
    "    model.linear.bias.grad.zero_()\n",
    "\n",
    "    print(f'Epoch: {epoch +1},Loss: {loss.item()}')\n",
    "\n",
    "\n",
    "\n"
   ]
  },
  {
   "cell_type": "markdown",
   "id": "6ef9e97a",
   "metadata": {},
   "source": [
    "## Now we will use built in loss function and built in optimizer"
   ]
  },
  {
   "cell_type": "code",
   "execution_count": null,
   "id": "5b6025ec",
   "metadata": {},
   "outputs": [],
   "source": [
    "class Model(nn.Module):\n",
    "\n",
    "\n",
    "\n",
    "    def __init__(self,num_features):\n",
    "\n",
    "        super().__init__()\n",
    "\n",
    "        self.linear = nn.Linear(num_features,1)\n",
    "\n",
    "        self.sigmoid = nn.Sigmoid()\n",
    "\n",
    "\n",
    "    def forward(self,features):\n",
    "\n",
    "        out = self.linear(features)\n",
    "        out = self.sigmoid(out)\n",
    "\n",
    "        return out\n",
    "    \n",
    "\n",
    "\n",
    "\n",
    "\n",
    "\n"
   ]
  },
  {
   "cell_type": "code",
   "execution_count": 18,
   "id": "ccee9ca3",
   "metadata": {},
   "outputs": [],
   "source": [
    "lr = 0.1\n",
    "epochs = 25"
   ]
  },
  {
   "cell_type": "code",
   "execution_count": 19,
   "id": "ae9de288",
   "metadata": {},
   "outputs": [],
   "source": [
    "loss_function = nn.BCELoss()"
   ]
  },
  {
   "cell_type": "markdown",
   "id": "4abcb1b3",
   "metadata": {},
   "source": [
    "# Training Pipeline"
   ]
  },
  {
   "cell_type": "code",
   "execution_count": 27,
   "id": "4b53b351",
   "metadata": {},
   "outputs": [],
   "source": [
    "model = Model(X_train_tensor.shape[1])"
   ]
  },
  {
   "cell_type": "code",
   "execution_count": 35,
   "id": "f9e04eb6",
   "metadata": {},
   "outputs": [
    {
     "name": "stdout",
     "output_type": "stream",
     "text": [
      "Epoch: 1, Loss: 0.6952202320098877\n",
      "Epoch: 2, Loss: 0.5236639380455017\n",
      "Epoch: 3, Loss: 0.43529850244522095\n",
      "Epoch: 4, Loss: 0.3815218210220337\n",
      "Epoch: 5, Loss: 0.344723105430603\n",
      "Epoch: 6, Loss: 0.3175782859325409\n",
      "Epoch: 7, Loss: 0.2965080142021179\n",
      "Epoch: 8, Loss: 0.27954337000846863\n",
      "Epoch: 9, Loss: 0.265503853559494\n",
      "Epoch: 10, Loss: 0.2536345422267914\n",
      "Epoch: 11, Loss: 0.24342748522758484\n",
      "Epoch: 12, Loss: 0.23452705144882202\n",
      "Epoch: 13, Loss: 0.2266758531332016\n",
      "Epoch: 14, Loss: 0.21968244016170502\n",
      "Epoch: 15, Loss: 0.21340112388134003\n",
      "Epoch: 16, Loss: 0.20771877467632294\n",
      "Epoch: 17, Loss: 0.20254600048065186\n",
      "Epoch: 18, Loss: 0.19781115651130676\n",
      "Epoch: 19, Loss: 0.1934559941291809\n",
      "Epoch: 20, Loss: 0.18943263590335846\n",
      "Epoch: 21, Loss: 0.18570132553577423\n",
      "Epoch: 22, Loss: 0.18222862482070923\n",
      "Epoch: 23, Loss: 0.1789862960577011\n",
      "Epoch: 24, Loss: 0.175950288772583\n",
      "Epoch: 25, Loss: 0.17309986054897308\n"
     ]
    }
   ],
   "source": [
    "# ...existing code...\n",
    "for epoch in range(epochs):\n",
    "\n",
    "    X_train_tensor = X_train_tensor.float()\n",
    "    y_train_tensor = y_train_tensor.view(-1,1).float()   # << convert targets to float and shape to (N,1)\n",
    "\n",
    "    y_pred = model(X_train_tensor)\n",
    "\n",
    "    loss = loss_function(y_pred, y_train_tensor)         # store the loss\n",
    "\n",
    "    loss.backward()\n",
    "\n",
    "    with torch.no_grad():\n",
    "\n",
    "        model.linear.weight -= lr * model.linear.weight.grad\n",
    "        model.linear.bias   -= lr * model.linear.bias.grad\n",
    "\n",
    "    model.linear.weight.grad.zero_()\n",
    "    model.linear.bias.grad.zero_()\n",
    "\n",
    "    print(f'Epoch: {epoch + 1}, Loss: {loss.item()}')\n",
    "# ...existing code..."
   ]
  },
  {
   "cell_type": "code",
   "execution_count": 28,
   "id": "cd9d25b7",
   "metadata": {},
   "outputs": [
    {
     "name": "stdout",
     "output_type": "stream",
     "text": [
      "torch.Size([455, 1])\n",
      "torch.Size([455])\n"
     ]
    }
   ],
   "source": [
    "print(y_pred.shape)\n",
    "\n",
    "print(y_train_tensor.shape)"
   ]
  },
  {
   "cell_type": "code",
   "execution_count": 32,
   "id": "b72a5aca",
   "metadata": {},
   "outputs": [
    {
     "data": {
      "text/plain": [
       "torch.int64"
      ]
     },
     "execution_count": 32,
     "metadata": {},
     "output_type": "execute_result"
    }
   ],
   "source": [
    "y_train_tensor.dtype"
   ]
  },
  {
   "cell_type": "code",
   "execution_count": 33,
   "id": "3b068e8d",
   "metadata": {},
   "outputs": [
    {
     "data": {
      "text/plain": [
       "torch.float32"
      ]
     },
     "execution_count": 33,
     "metadata": {},
     "output_type": "execute_result"
    }
   ],
   "source": [
    "y_pred.dtype"
   ]
  },
  {
   "cell_type": "markdown",
   "id": "3aa477d9",
   "metadata": {},
   "source": [
    "# Evaluation"
   ]
  },
  {
   "cell_type": "code",
   "execution_count": 37,
   "id": "ccb64c08",
   "metadata": {},
   "outputs": [
    {
     "data": {
      "text/plain": [
       "torch.float64"
      ]
     },
     "execution_count": 37,
     "metadata": {},
     "output_type": "execute_result"
    }
   ],
   "source": [
    "X_test_tensor.dtype"
   ]
  },
  {
   "cell_type": "code",
   "execution_count": 40,
   "id": "6fa096c5",
   "metadata": {},
   "outputs": [
    {
     "data": {
      "text/plain": [
       "torch.int64"
      ]
     },
     "execution_count": 40,
     "metadata": {},
     "output_type": "execute_result"
    }
   ],
   "source": [
    "y_test_tensor.dtype"
   ]
  },
  {
   "cell_type": "code",
   "execution_count": 43,
   "id": "32a63848",
   "metadata": {},
   "outputs": [
    {
     "name": "stdout",
     "output_type": "stream",
     "text": [
      "Accuracy: 0.9649\n"
     ]
    }
   ],
   "source": [
    "# ...existing code...\n",
    "with torch.no_grad():\n",
    "    # ensure inputs are float\n",
    "    X_test_tensor = X_test_tensor.float()\n",
    "\n",
    "    # forward\n",
    "    y_pred = model(X_test_tensor)\n",
    "\n",
    "    # threshold and align shapes/dtypes:\n",
    "    # - model outputs (N,1), flatten to (N,)\n",
    "    # - convert targets to float for elementwise comparison\n",
    "    y_pred = (y_pred > 0.5).float().view(-1)\n",
    "    y_true = y_test_tensor.view(-1).float()\n",
    "\n",
    "    # compute scalar accuracy\n",
    "    accuracy = (y_pred == y_true).float().mean().item()\n",
    "\n",
    "    print(f'Accuracy: {accuracy:.4f}')\n",
    "# ...existing code..."
   ]
  },
  {
   "cell_type": "markdown",
   "id": "5d4ef222",
   "metadata": {},
   "source": [
    "# USING TORCH.OPTIM"
   ]
  },
  {
   "cell_type": "code",
   "execution_count": 44,
   "id": "8ae707d6",
   "metadata": {},
   "outputs": [],
   "source": [
    "# DEFINING MODEL\n",
    "\n",
    "import torch.nn as nn\n",
    "\n",
    "class MysimpleNN(nn.Module):\n",
    "\n",
    "    def __init__(self, num_features):\n",
    "        super().__init__()\n",
    "        self.linear = nn.Linear(num_features,1)\n",
    "        self.sigmoid = nn.Sigmoid()\n",
    "\n",
    "\n",
    "    def forward(self,features):\n",
    "        out = self.linear(features)\n",
    "        out = self.sigmoid(out)\n",
    "\n",
    "        return out"
   ]
  },
  {
   "cell_type": "code",
   "execution_count": 45,
   "id": "d1eb4f55",
   "metadata": {},
   "outputs": [],
   "source": [
    "learning_rate = 0.1\n",
    "epochs= 100"
   ]
  },
  {
   "cell_type": "code",
   "execution_count": 46,
   "id": "c5b1d21e",
   "metadata": {},
   "outputs": [],
   "source": [
    "model = MysimpleNN(X_train_tensor.shape[1])"
   ]
  },
  {
   "cell_type": "code",
   "execution_count": 48,
   "id": "6aeb3642",
   "metadata": {},
   "outputs": [],
   "source": [
    "loss_function= nn.BCELoss()"
   ]
  },
  {
   "cell_type": "code",
   "execution_count": 47,
   "id": "5c3765d9",
   "metadata": {},
   "outputs": [],
   "source": [
    "optimizer = torch.optim.SGD(model.parameters(),lr= learning_rate)"
   ]
  },
  {
   "cell_type": "code",
   "execution_count": 49,
   "id": "8b9a3398",
   "metadata": {},
   "outputs": [
    {
     "name": "stdout",
     "output_type": "stream",
     "text": [
      "Epoch 1,Loss:0.746551513671875\n",
      "Epoch 2,Loss:0.5404015779495239\n",
      "Epoch 3,Loss:0.43499842286109924\n",
      "Epoch 4,Loss:0.3738372325897217\n",
      "Epoch 5,Loss:0.3337177634239197\n",
      "Epoch 6,Loss:0.3051246106624603\n",
      "Epoch 7,Loss:0.28354474902153015\n",
      "Epoch 8,Loss:0.266564279794693\n",
      "Epoch 9,Loss:0.25277331471443176\n",
      "Epoch 10,Loss:0.24129219353199005\n",
      "Epoch 11,Loss:0.23154273629188538\n",
      "Epoch 12,Loss:0.2231287658214569\n",
      "Epoch 13,Loss:0.2157694399356842\n",
      "Epoch 14,Loss:0.20925964415073395\n",
      "Epoch 15,Loss:0.20344586670398712\n",
      "Epoch 16,Loss:0.1982109099626541\n",
      "Epoch 17,Loss:0.19346337020397186\n",
      "Epoch 18,Loss:0.189130961894989\n",
      "Epoch 19,Loss:0.1851556897163391\n",
      "Epoch 20,Loss:0.18149034678936005\n",
      "Epoch 21,Loss:0.17809604108333588\n",
      "Epoch 22,Loss:0.1749405413866043\n",
      "Epoch 23,Loss:0.17199671268463135\n",
      "Epoch 24,Loss:0.16924165189266205\n",
      "Epoch 25,Loss:0.1666557788848877\n",
      "Epoch 26,Loss:0.16422228515148163\n",
      "Epoch 27,Loss:0.16192662715911865\n",
      "Epoch 28,Loss:0.15975618362426758\n",
      "Epoch 29,Loss:0.15769986808300018\n",
      "Epoch 30,Loss:0.15574797987937927\n",
      "Epoch 31,Loss:0.1538919359445572\n",
      "Epoch 32,Loss:0.1521240770816803\n",
      "Epoch 33,Loss:0.150437593460083\n",
      "Epoch 34,Loss:0.148826465010643\n",
      "Epoch 35,Loss:0.14728519320487976\n",
      "Epoch 36,Loss:0.1458088904619217\n",
      "Epoch 37,Loss:0.14439310133457184\n",
      "Epoch 38,Loss:0.14303378760814667\n",
      "Epoch 39,Loss:0.14172732830047607\n",
      "Epoch 40,Loss:0.14047032594680786\n",
      "Epoch 41,Loss:0.13925981521606445\n",
      "Epoch 42,Loss:0.13809293508529663\n",
      "Epoch 43,Loss:0.13696718215942383\n",
      "Epoch 44,Loss:0.13588017225265503\n",
      "Epoch 45,Loss:0.13482975959777832\n",
      "Epoch 46,Loss:0.13381391763687134\n",
      "Epoch 47,Loss:0.13283079862594604\n",
      "Epoch 48,Loss:0.13187871873378754\n",
      "Epoch 49,Loss:0.1309560388326645\n",
      "Epoch 50,Loss:0.1300613135099411\n",
      "Epoch 51,Loss:0.12919314205646515\n",
      "Epoch 52,Loss:0.12835025787353516\n",
      "Epoch 53,Loss:0.12753145396709442\n",
      "Epoch 54,Loss:0.1267355978488922\n",
      "Epoch 55,Loss:0.12596166133880615\n",
      "Epoch 56,Loss:0.12520864605903625\n",
      "Epoch 57,Loss:0.1244756430387497\n",
      "Epoch 58,Loss:0.12376176565885544\n",
      "Epoch 59,Loss:0.12306621670722961\n",
      "Epoch 60,Loss:0.12238822132349014\n",
      "Epoch 61,Loss:0.12172704190015793\n",
      "Epoch 62,Loss:0.12108203023672104\n",
      "Epoch 63,Loss:0.12045250833034515\n",
      "Epoch 64,Loss:0.11983787268400192\n",
      "Epoch 65,Loss:0.11923755705356598\n",
      "Epoch 66,Loss:0.11865102499723434\n",
      "Epoch 67,Loss:0.11807774007320404\n",
      "Epoch 68,Loss:0.11751722544431686\n",
      "Epoch 69,Loss:0.11696901172399521\n",
      "Epoch 70,Loss:0.11643264442682266\n",
      "Epoch 71,Loss:0.11590772122144699\n",
      "Epoch 72,Loss:0.11539384722709656\n",
      "Epoch 73,Loss:0.11489062756299973\n",
      "Epoch 74,Loss:0.11439770460128784\n",
      "Epoch 75,Loss:0.11391474306583405\n",
      "Epoch 76,Loss:0.11344140022993088\n",
      "Epoch 77,Loss:0.11297735571861267\n",
      "Epoch 78,Loss:0.11252233386039734\n",
      "Epoch 79,Loss:0.11207602173089981\n",
      "Epoch 80,Loss:0.11163818091154099\n",
      "Epoch 81,Loss:0.11120852082967758\n",
      "Epoch 82,Loss:0.11078678071498871\n",
      "Epoch 83,Loss:0.11037275195121765\n",
      "Epoch 84,Loss:0.10996617376804352\n",
      "Epoch 85,Loss:0.10956685990095139\n",
      "Epoch 86,Loss:0.10917456448078156\n",
      "Epoch 87,Loss:0.1087891012430191\n",
      "Epoch 88,Loss:0.10841028392314911\n",
      "Epoch 89,Loss:0.10803790390491486\n",
      "Epoch 90,Loss:0.10767178982496262\n",
      "Epoch 91,Loss:0.10731178522109985\n",
      "Epoch 92,Loss:0.10695771127939224\n",
      "Epoch 93,Loss:0.10660938918590546\n",
      "Epoch 94,Loss:0.10626668483018875\n",
      "Epoch 95,Loss:0.10592946410179138\n",
      "Epoch 96,Loss:0.10559756308794022\n",
      "Epoch 97,Loss:0.10527084022760391\n",
      "Epoch 98,Loss:0.10494916886091232\n",
      "Epoch 99,Loss:0.1046324223279953\n",
      "Epoch 100,Loss:0.1043204814195633\n"
     ]
    }
   ],
   "source": [
    "for epoch in range(epochs):\n",
    "\n",
    "    y_pred = model(X_train_tensor)\n",
    "\n",
    "    loss = loss_function(y_pred,y_train_tensor)\n",
    "\n",
    "    optimizer.zero_grad()\n",
    "\n",
    "    loss.backward()\n",
    "\n",
    "    optimizer.step()\n",
    "\n",
    "    print(f'Epoch {epoch+1},Loss:{loss.item()}')\n",
    "\n"
   ]
  },
  {
   "cell_type": "code",
   "execution_count": null,
   "id": "f47f010a",
   "metadata": {},
   "outputs": [],
   "source": []
  }
 ],
 "metadata": {
  "kernelspec": {
   "display_name": ".venv",
   "language": "python",
   "name": "python3"
  },
  "language_info": {
   "codemirror_mode": {
    "name": "ipython",
    "version": 3
   },
   "file_extension": ".py",
   "mimetype": "text/x-python",
   "name": "python",
   "nbconvert_exporter": "python",
   "pygments_lexer": "ipython3",
   "version": "3.10.0"
  }
 },
 "nbformat": 4,
 "nbformat_minor": 5
}
